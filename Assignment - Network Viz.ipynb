{
 "cells": [
  {
   "cell_type": "markdown",
   "metadata": {},
   "source": [
    "# Network Viz"
   ]
  },
  {
   "cell_type": "code",
   "execution_count": 1,
   "metadata": {},
   "outputs": [],
   "source": [
    "import pandas as pd\n",
    "import numpy as np\n",
    "import json\n",
    "import bqplot"
   ]
  },
  {
   "cell_type": "code",
   "execution_count": 2,
   "metadata": {},
   "outputs": [],
   "source": [
    "films = json.load(open(\"shared/sp18-is590dv/data/star_wars/films.json\"))"
   ]
  },
  {
   "cell_type": "code",
   "execution_count": 3,
   "metadata": {},
   "outputs": [],
   "source": [
    "char_input = json.load(open(\"shared/sp18-is590dv/data/star_wars/people.json\"))\n",
    "characters = {}\n",
    "for character in char_input:\n",
    "    characters[character['pk']] = character['fields']"
   ]
  },
  {
   "cell_type": "code",
   "execution_count": 4,
   "metadata": {},
   "outputs": [],
   "source": [
    "chars = [\"Boba Fett\", \"Yoda\", \"Jabba Desilijic Tiure\", \"Darth Vader\", \"Obi-Wan Kenobi\",\n",
    "         \"Beru Whitesun lars\", \"Mon Mothma\"]"
   ]
  },
  {
   "cell_type": "code",
   "execution_count": 5,
   "metadata": {},
   "outputs": [
    {
     "data": {
      "application/vnd.jupyter.widget-view+json": {
       "model_id": "5139578ed56c438a853d02522f96a641",
       "version_major": 2,
       "version_minor": 0
      },
      "text/plain": [
       "Figure(fig_margin={'top': 60, 'bottom': 60, 'left': 60, 'right': 60}, layout=Layout(min_width='125px'), marks=…"
      ]
     },
     "metadata": {},
     "output_type": "display_data"
    }
   ],
   "source": [
    "node_data = []\n",
    "for film in films:\n",
    "    film_chars = film[\"fields\"][\"characters\"]\n",
    "    name = film[\"fields\"][\"title\"]\n",
    "    for character in film_chars:\n",
    "        if characters[character][\"name\"] in chars: \n",
    "            character = characters[character][\"name\"]\n",
    "            node_data.append({'media': name,'label' :character})\n",
    "\n",
    "link_data = [{'source':0, 'target' :1}, {'source':0, 'target' :2},{'source':1, 'target' :2},{'source':3, 'target' :4},\n",
    "             {'source':3, 'target' :5},{'source':3, 'target' :6},{'source':4, 'target' :5},{'source':4, 'target' :6},\n",
    "             {'source':5, 'target' :6},{'source':7, 'target' :8},{'source':7, 'target' :9},{'source':7, 'target' :10},\n",
    "             {'source':7, 'target' :11},{'source':8, 'target' :9},{'source':8, 'target' :10},{'source':8, 'target' :11},\n",
    "            {'source':9, 'target' :10},{'source':9, 'target' :11},{'source':10, 'target' :11},{'source':12, 'target' :13},\n",
    "            {'source':14, 'target' :15},{'source':14, 'target' :16},{'source':14, 'target' :17},{'source':15, 'target' :16},\n",
    "            {'source':15, 'target' :17},{'source':16, 'target' :17},{'source':18, 'target' :19},{'source':18, 'target' :20},\n",
    "            {'source':18, 'target' :21},{'source':19, 'target' :20},{'source':19, 'target' :21},{'source':20, 'target' :21}]\n",
    "color_data = [1,2,3,4]\n",
    "\n",
    "tooltip = bqplot.Tooltip(fields = ['media','label'])\n",
    "\n",
    "graph = bqplot.Graph(node_data = node_data, link_data = link_data, tooltip = tooltip, )\n",
    "fig = bqplot.Figure(marks = [graph])\n",
    "fig.height = 200\n",
    "display(fig)\n",
    "\n",
    "def display_film(obj,element):\n",
    "    print('Film = ' + element['data']['media'])\n",
    "\n",
    "graph.on_element_click(display_film)"
   ]
  },
  {
   "cell_type": "code",
   "execution_count": null,
   "metadata": {},
   "outputs": [],
   "source": []
  }
 ],
 "metadata": {
  "kernelspec": {
   "display_name": "Environment (conda_is590dv-default)",
   "language": "python",
   "name": "conda_is590dv-default"
  },
  "language_info": {
   "codemirror_mode": {
    "name": "ipython",
    "version": 3
   },
   "file_extension": ".py",
   "mimetype": "text/x-python",
   "name": "python",
   "nbconvert_exporter": "python",
   "pygments_lexer": "ipython3",
   "version": "3.6.6"
  }
 },
 "nbformat": 4,
 "nbformat_minor": 2
}
